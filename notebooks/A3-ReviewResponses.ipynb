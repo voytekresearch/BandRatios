{
 "cells": [
  {
   "cell_type": "markdown",
   "metadata": {},
   "source": [
    "# FOOOF Ratios + Trial by Trial variance analysis"
   ]
  },
  {
   "cell_type": "markdown",
   "metadata": {},
   "source": [
    "This notebook explores the relationship between parameterized ratios and age."
   ]
  },
  {
   "cell_type": "code",
   "execution_count": 1,
   "metadata": {},
   "outputs": [],
   "source": [
    "import pandas as pd\n",
    "import csv\n",
    "\n",
    "import mne\n",
    "\n",
    "# Import custom project code\n",
    "import sys\n",
    "sys.path.append('../bratios')\n",
    "from ratios import *\n",
    "from analysis import *\n",
    "from settings import *\n",
    "from plot import *"
   ]
  },
  {
   "cell_type": "markdown",
   "metadata": {},
   "source": [
    "### Get data for all blocks (trials)"
   ]
  },
  {
   "cell_type": "code",
   "execution_count": 2,
   "metadata": {},
   "outputs": [],
   "source": [
    "# Read datafile with dataset information\n",
    "data = pd.read_csv(\"../data/eeg/metadata/MIPDB_PublicFile.csv\")"
   ]
  },
  {
   "cell_type": "code",
   "execution_count": 3,
   "metadata": {
    "scrolled": true
   },
   "outputs": [],
   "source": [
    "# Read in list of channel names that are kept in reduced 111 montage\n",
    "with open('../data/eeg/metadata/chans111.csv', 'r') as csv_file:\n",
    "    reader = csv.reader(csv_file)\n",
    "    ch_labels = list(reader)[0]\n",
    "    \n",
    "# Read montage, reduced to 111 channel selection\n",
    "montage = mne.channels.read_montage('GSN-HydroCel-129', ch_names=ch_labels)"
   ]
  },
  {
   "cell_type": "code",
   "execution_count": 4,
   "metadata": {},
   "outputs": [],
   "source": [
    "# Get the list of all channels\n",
    "all_chans = mne.pick_channels(montage.ch_names, [])"
   ]
  },
  {
   "cell_type": "code",
   "execution_count": 11,
   "metadata": {},
   "outputs": [],
   "source": [
    "dfs = []\n",
    "# Compute Dataframes\n",
    "# for i in range(1,5):\n",
    "#     df = get_all_data(data, all_chans, i)\n",
    "#     df.to_csv(\"../dat/ChildMind/spectral_measures_dataframe_\"+str(i)+\".csv\")\n",
    "#     dfs.append(df)   \n",
    "\n",
    "# Load Dataframes\n",
    "for i in range(1,5):\n",
    "    curr_df = pd.read_csv(\"../dat/ChildMind/spectral_measures_dataframe_\"+str(i)+\".csv\")\n",
    "    dfs.append(curr_df)"
   ]
  },
  {
   "cell_type": "markdown",
   "metadata": {},
   "source": [
    "## Fooof ratio correlation with age"
   ]
  },
  {
   "cell_type": "code",
   "execution_count": 12,
   "metadata": {},
   "outputs": [],
   "source": [
    "def fooof_ratio_corr(dfs, ratio_type, corr_func):\n",
    "    \"\"\" Finds the correlation between fooof ratio and age\n",
    "        Where fooof ratio := power at center frequency of most salient oscillation\n",
    "        of high band / power at center frequency of most salient oscillation\n",
    "        of low band.\n",
    "    \n",
    "    Parameters\n",
    "    ----------\n",
    "    dfs : list of dataframes\n",
    "    ratio_type : sting\n",
    "        Which bands to use in calculating fooof ratio\n",
    "    corr_func:\n",
    "        Function to calculate correlation\n",
    "        \n",
    "    Return\n",
    "    ------\n",
    "    Mean of correlations.\n",
    "    \"\"\"\n",
    "    \n",
    "    corrs =np.zeros(len(dfs))\n",
    "    for ind, curr_df in enumerate(dfs):\n",
    "    \n",
    "        ratio_type = ratio_type.upper()\n",
    "\n",
    "        numer = get_wave_params(ratio_type[0])[1]\n",
    "        denom = get_wave_params(ratio_type[1])[1]\n",
    "\n",
    "        fooof_ratios = curr_df[numer]/curr_df[denom]\n",
    "\n",
    "        curr_corr = corr_func(curr_df[\"Age\"], fooof_ratios)[0]\n",
    "\n",
    "        corrs[ind] = curr_corr\n",
    "\n",
    "        return np.mean(corrs)"
   ]
  },
  {
   "cell_type": "code",
   "execution_count": 13,
   "metadata": {},
   "outputs": [
    {
     "data": {
      "text/plain": [
       "-0.040623096301554196"
      ]
     },
     "execution_count": 13,
     "metadata": {},
     "output_type": "execute_result"
    }
   ],
   "source": [
    "fooof_ratio_corr(dfs,\"tbr\", nan_corr_spearman)"
   ]
  },
  {
   "cell_type": "code",
   "execution_count": 14,
   "metadata": {},
   "outputs": [
    {
     "data": {
      "text/plain": [
       "-0.02524293954137392"
      ]
     },
     "execution_count": 14,
     "metadata": {},
     "output_type": "execute_result"
    }
   ],
   "source": [
    "fooof_ratio_corr(dfs,\"abr\", nan_corr_spearman)"
   ]
  },
  {
   "cell_type": "code",
   "execution_count": 15,
   "metadata": {},
   "outputs": [
    {
     "data": {
      "text/plain": [
       "-0.026881795325386773"
      ]
     },
     "execution_count": 15,
     "metadata": {},
     "output_type": "execute_result"
    }
   ],
   "source": [
    "fooof_ratio_corr(dfs, \"tar\", nan_corr_spearman)"
   ]
  },
  {
   "cell_type": "markdown",
   "metadata": {},
   "source": [
    "# Trial by Trial Basis\n",
    "\n",
    "This section explores the relationship between band ratios and the aperidic exponent across trials."
   ]
  },
  {
   "cell_type": "code",
   "execution_count": 16,
   "metadata": {},
   "outputs": [],
   "source": [
    "def get_ratio_ap_var(dfs, ratio_type, corr_func):\n",
    "    \"\"\" Describes the stability of correlation between ratio measures \n",
    "        and aperiodic exponent.\n",
    "        \n",
    "        Parameters\n",
    "        ----------\n",
    "        dfs : list of dataframes\n",
    "        ratio_type : sting\n",
    "            Which bands to use in calculating fooof ratio\n",
    "        corr_func:\n",
    "            Function to calculate correlation\n",
    "\n",
    "        Outputs\n",
    "        ------\n",
    "        Variance of correlations.\n",
    "    \"\"\"\n",
    "    corrs = []\n",
    "    for curr_df in dfs:\n",
    "        curr_corr = corr_func(curr_df[\"Exp\"],curr_df[ratio_type])\n",
    "        #print(curr_corr)\n",
    "        if curr_corr[1] <.05:\n",
    "            corrs.append(curr_corr[0])\n",
    "    print(\"variance: \",np.var(corrs))\n",
    "    \n",
    "    plt.title(ratio_type)\n",
    "    plt.xlabel(\"trial\")\n",
    "    plt.ylabel(\"corr\")\n",
    "    plt.plot(corrs)"
   ]
  },
  {
   "cell_type": "code",
   "execution_count": 17,
   "metadata": {},
   "outputs": [
    {
     "name": "stdout",
     "output_type": "stream",
     "text": [
      "variance:  0.00016710815459686825\n"
     ]
    },
    {
     "data": {
      "image/png": "[encoded data removed]",
      "text/plain": [
       "<Figure size 432x288 with 1 Axes>"
      ]
     },
     "metadata": {
      "needs_background": "light"
     },
     "output_type": "display_data"
    }
   ],
   "source": [
    "get_ratio_ap_var(dfs,\"TBR\", nan_corr_spearman)"
   ]
  },
  {
   "cell_type": "code",
   "execution_count": 18,
   "metadata": {},
   "outputs": [
    {
     "name": "stdout",
     "output_type": "stream",
     "text": [
      "variance:  0.0016232461646974164\n"
     ]
    },
    {
     "data": {
      "image/png": "[encoded data removed]",
      "text/plain": [
       "<Figure size 432x288 with 1 Axes>"
      ]
     },
     "metadata": {
      "needs_background": "light"
     },
     "output_type": "display_data"
    }
   ],
   "source": [
    "get_ratio_ap_var(dfs,\"ABR\", nan_corr_spearman)"
   ]
  },
  {
   "cell_type": "code",
   "execution_count": 19,
   "metadata": {},
   "outputs": [
    {
     "name": "stdout",
     "output_type": "stream",
     "text": [
      "variance:  0.00028702984652289926\n"
     ]
    },
    {
     "data": {
      "image/png": "[encoded data removed]",
      "text/plain": [
       "<Figure size 432x288 with 1 Axes>"
      ]
     },
     "metadata": {
      "needs_background": "light"
     },
     "output_type": "display_data"
    }
   ],
   "source": [
    "get_ratio_ap_var(dfs,\"TAR\", nan_corr_spearman)"
   ]
  },
  {
   "cell_type": "code",
   "execution_count": null,
   "metadata": {},
   "outputs": [],
   "source": []
  }
 ],
 "metadata": {
  "kernelspec": {
   "display_name": "Python 3",
   "language": "python",
   "name": "python3"
  },
  "language_info": {
   "codemirror_mode": {
    "name": "ipython",
    "version": 3
   },
   "file_extension": ".py",
   "mimetype": "text/x-python",
   "name": "python",
   "nbconvert_exporter": "python",
   "pygments_lexer": "ipython3",
   "version": "3.7.3"
  }
 },
 "nbformat": 4,
 "nbformat_minor": 2
}
