{
 "cells": [
  {
   "cell_type": "markdown",
   "metadata": {},
   "source": [
    "# FOOOF Ratios + Trial by Trial variance analysis"
   ]
  },
  {
   "cell_type": "markdown",
   "metadata": {},
   "source": [
    "This notebook explores the relationship between parameterized ratios and age."
   ]
  },
  {
   "cell_type": "code",
   "execution_count": 1,
   "metadata": {},
   "outputs": [],
   "source": [
    "import pandas as pd\n",
    "import csv\n",
    "\n",
    "import mne\n",
    "\n",
    "# Import custom project code\n",
    "import sys\n",
    "sys.path.append('../bratios')\n",
    "from ratios import *\n",
    "from analysis import *\n",
    "from settings import *\n",
    "from plot import *"
   ]
  },
  {
   "cell_type": "markdown",
   "metadata": {},
   "source": [
    "### Get data for all blocks (trials)"
   ]
  },
  {
   "cell_type": "code",
   "execution_count": 4,
   "metadata": {},
   "outputs": [],
   "source": [
    "# Read datafile with dataset information\n",
    "data = pd.read_csv(\"../dat/ChildMind/MIPDB_PublicFile.csv\")"
   ]
  },
  {
   "cell_type": "code",
   "execution_count": 5,
   "metadata": {
    "scrolled": true
   },
   "outputs": [],
   "source": [
    "# Read in list of channel names that are kept in reduced 111 montage\n",
    "with open('../dat/ChildMind/chans111.csv', 'r') as csv_file:\n",
    "    reader = csv.reader(csv_file)\n",
    "    ch_labels = list(reader)[0]\n",
    "    \n",
    "# Read montage, reduced to 111 channel selection\n",
    "montage = mne.channels.read_montage('GSN-HydroCel-129', ch_names=ch_labels)"
   ]
  },
  {
   "cell_type": "code",
   "execution_count": 6,
   "metadata": {},
   "outputs": [],
   "source": [
    "# Get the list of all channels\n",
    "all_chans = mne.pick_channels(montage.ch_names, [])"
   ]
  },
  {
   "cell_type": "code",
   "execution_count": 10,
   "metadata": {},
   "outputs": [
    {
     "name": "stdout",
     "output_type": "stream",
     "text": [
      "FileNotFound or ValueError:  A00052593\n",
      "FileNotFound or ValueError:  A00053398\n",
      "IndexError:  A00053480\n",
      "FileNotFound or ValueError:  A00054122\n",
      "IndexError:  A00054239\n",
      "FileNotFound or ValueError:  A00054359\n",
      "FileNotFound or ValueError:  A00054469\n",
      "FileNotFound or ValueError:  A00054488\n",
      "FileNotFound or ValueError:  A00054666\n",
      "FileNotFound or ValueError:  A00054836\n",
      "FileNotFound or ValueError:  A00054866\n",
      "FileNotFound or ValueError:  A00055623\n",
      "FileNotFound or ValueError:  A00055628\n",
      "FileNotFound or ValueError:  A00055801\n",
      "FileNotFound or ValueError:  A00055923\n",
      "FileNotFound or ValueError:  A00056116\n",
      "FileNotFound or ValueError:  A00056158\n",
      "FileNotFound or ValueError:  A00056640\n",
      "FileNotFound or ValueError:  A00056716\n",
      "FileNotFound or ValueError:  A00056733\n",
      "FileNotFound or ValueError:  A00056913\n",
      "FileNotFound or ValueError:  A00056990\n",
      "FileNotFound or ValueError:  A00057135\n",
      "IndexError:  A00059083\n",
      "FileNotFound or ValueError:  A00062029\n",
      "FileNotFound or ValueError:  A00062055\n",
      "FileNotFound or ValueError:  A00062125\n",
      "FileNotFound or ValueError:  A00062219\n",
      "FileNotFound or ValueError:  A00062408\n",
      "FileNotFound or ValueError:  A00063558\n",
      "FileNotFound or ValueError:  A00052593\n",
      "IndexError:  A00053375\n",
      "FileNotFound or ValueError:  A00053398\n",
      "IndexError:  A00053480\n",
      "FileNotFound or ValueError:  A00054122\n",
      "IndexError:  A00054239\n",
      "FileNotFound or ValueError:  A00054359\n",
      "FileNotFound or ValueError:  A00054469\n",
      "FileNotFound or ValueError:  A00054488\n",
      "FileNotFound or ValueError:  A00054666\n",
      "FileNotFound or ValueError:  A00054836\n",
      "FileNotFound or ValueError:  A00054866\n",
      "FileNotFound or ValueError:  A00055623\n",
      "FileNotFound or ValueError:  A00055628\n",
      "FileNotFound or ValueError:  A00055801\n",
      "FileNotFound or ValueError:  A00055923\n",
      "FileNotFound or ValueError:  A00056116\n",
      "FileNotFound or ValueError:  A00056158\n",
      "FileNotFound or ValueError:  A00056640\n",
      "FileNotFound or ValueError:  A00056716\n",
      "FileNotFound or ValueError:  A00056733\n",
      "FileNotFound or ValueError:  A00056913\n",
      "FileNotFound or ValueError:  A00056990\n",
      "FileNotFound or ValueError:  A00057135\n",
      "IndexError:  A00059083\n",
      "FileNotFound or ValueError:  A00062029\n",
      "FileNotFound or ValueError:  A00062055\n",
      "FileNotFound or ValueError:  A00062125\n",
      "FileNotFound or ValueError:  A00062219\n",
      "FileNotFound or ValueError:  A00062408\n",
      "FileNotFound or ValueError:  A00063558\n",
      "FileNotFound or ValueError:  A00052593\n",
      "IndexError:  A00053375\n",
      "FileNotFound or ValueError:  A00053398\n",
      "IndexError:  A00053480\n",
      "FileNotFound or ValueError:  A00054122\n",
      "IndexError:  A00054239\n",
      "FileNotFound or ValueError:  A00054359\n",
      "FileNotFound or ValueError:  A00054469\n",
      "FileNotFound or ValueError:  A00054488\n",
      "FileNotFound or ValueError:  A00054666\n",
      "FileNotFound or ValueError:  A00054836\n",
      "FileNotFound or ValueError:  A00054866\n",
      "FileNotFound or ValueError:  A00055623\n",
      "FileNotFound or ValueError:  A00055628\n",
      "FileNotFound or ValueError:  A00055801\n",
      "FileNotFound or ValueError:  A00055923\n",
      "FileNotFound or ValueError:  A00056116\n",
      "FileNotFound or ValueError:  A00056158\n",
      "FileNotFound or ValueError:  A00056640\n",
      "FileNotFound or ValueError:  A00056716\n",
      "FileNotFound or ValueError:  A00056733\n",
      "FileNotFound or ValueError:  A00056913\n",
      "FileNotFound or ValueError:  A00056990\n",
      "FileNotFound or ValueError:  A00057135\n",
      "IndexError:  A00059083\n",
      "FileNotFound or ValueError:  A00062029\n",
      "FileNotFound or ValueError:  A00062055\n",
      "FileNotFound or ValueError:  A00062125\n",
      "FileNotFound or ValueError:  A00062219\n",
      "FileNotFound or ValueError:  A00062408\n",
      "FileNotFound or ValueError:  A00063558\n",
      "FileNotFound or ValueError:  A00052593\n",
      "IndexError:  A00053375\n",
      "FileNotFound or ValueError:  A00053398\n",
      "IndexError:  A00053480\n",
      "FileNotFound or ValueError:  A00054122\n",
      "IndexError:  A00054239\n",
      "FileNotFound or ValueError:  A00054359\n",
      "FileNotFound or ValueError:  A00054469\n",
      "FileNotFound or ValueError:  A00054488\n",
      "FileNotFound or ValueError:  A00054666\n",
      "FileNotFound or ValueError:  A00054836\n",
      "FileNotFound or ValueError:  A00054866\n",
      "FileNotFound or ValueError:  A00055623\n",
      "FileNotFound or ValueError:  A00055628\n",
      "FileNotFound or ValueError:  A00055801\n",
      "FileNotFound or ValueError:  A00055923\n",
      "FileNotFound or ValueError:  A00056116\n",
      "FileNotFound or ValueError:  A00056158\n",
      "FileNotFound or ValueError:  A00056640\n",
      "FileNotFound or ValueError:  A00056716\n",
      "FileNotFound or ValueError:  A00056733\n",
      "FileNotFound or ValueError:  A00056913\n",
      "FileNotFound or ValueError:  A00056990\n",
      "FileNotFound or ValueError:  A00057135\n",
      "IndexError:  A00059083\n",
      "FileNotFound or ValueError:  A00062029\n",
      "FileNotFound or ValueError:  A00062055\n",
      "FileNotFound or ValueError:  A00062125\n",
      "FileNotFound or ValueError:  A00062219\n",
      "FileNotFound or ValueError:  A00062408\n",
      "FileNotFound or ValueError:  A00063558\n",
      "IndexError:  A00051826\n",
      "IndexError:  A00051886\n",
      "IndexError:  A00051955\n",
      "FileNotFound or ValueError:  A00052593\n",
      "IndexError:  A00053375\n",
      "FileNotFound or ValueError:  A00053398\n",
      "IndexError:  A00053440\n",
      "IndexError:  A00053460\n",
      "IndexError:  A00053480\n",
      "IndexError:  A00053597\n",
      "IndexError:  A00053909\n",
      "IndexError:  A00053990\n",
      "IndexError:  A00054023\n",
      "IndexError:  A00054039\n",
      "FileNotFound or ValueError:  A00054122\n",
      "IndexError:  A00054207\n",
      "IndexError:  A00054215\n",
      "IndexError:  A00054239\n",
      "IndexError:  A00054287\n",
      "FileNotFound or ValueError:  A00054359\n",
      "IndexError:  A00054369\n",
      "IndexError:  A00054387\n",
      "IndexError:  A00054400\n",
      "IndexError:  A00054417\n",
      "FileNotFound or ValueError:  A00054469\n",
      "FileNotFound or ValueError:  A00054488\n",
      "IndexError:  A00054535\n",
      "IndexError:  A00054597\n",
      "IndexError:  A00054623\n",
      "IndexError:  A00054647\n",
      "IndexError:  A00054659\n",
      "FileNotFound or ValueError:  A00054666\n",
      "IndexError:  A00054673\n",
      "IndexError:  A00054721\n",
      "IndexError:  A00054743\n",
      "IndexError:  A00054753\n",
      "IndexError:  A00054766\n",
      "IndexError:  A00054817\n",
      "FileNotFound or ValueError:  A00054836\n",
      "IndexError:  A00054852\n",
      "FileNotFound or ValueError:  A00054866\n",
      "IndexError:  A00054894\n",
      "IndexError:  A00054907\n",
      "IndexError:  A00054917\n",
      "IndexError:  A00054923\n",
      "IndexError:  A00054930\n",
      "IndexError:  A00055024\n",
      "IndexError:  A00055038\n",
      "IndexError:  A00055055\n",
      "IndexError:  A00055065\n",
      "IndexError:  A00055077\n",
      "IndexError:  A00055085\n",
      "IndexError:  A00055103\n",
      "IndexError:  A00055296\n",
      "IndexError:  A00055392\n",
      "IndexError:  A00055424\n",
      "IndexError:  A00055429\n",
      "IndexError:  A00055436\n",
      "IndexError:  A00055486\n",
      "IndexError:  A00055540\n",
      "IndexError:  A00055613\n",
      "FileNotFound or ValueError:  A00055623\n",
      "FileNotFound or ValueError:  A00055628\n",
      "IndexError:  A00055649\n",
      "IndexError:  A00055662\n",
      "IndexError:  A00055682\n",
      "IndexError:  A00055731\n",
      "IndexError:  A00055745\n",
      "IndexError:  A00055754\n",
      "FileNotFound or ValueError:  A00055801\n",
      "IndexError:  A00055837\n",
      "IndexError:  A00055865\n",
      "IndexError:  A00055893\n",
      "IndexError:  A00055910\n",
      "FileNotFound or ValueError:  A00055923\n",
      "IndexError:  A00055947\n",
      "IndexError:  A00055956\n",
      "IndexError:  A00056002\n",
      "IndexError:  A00056054\n",
      "FileNotFound or ValueError:  A00056116\n",
      "FileNotFound or ValueError:  A00056158\n",
      "IndexError:  A00056166\n",
      "IndexError:  A00056257\n",
      "IndexError:  A00056428\n",
      "IndexError:  A00056604\n",
      "FileNotFound or ValueError:  A00056640\n",
      "IndexError:  A00056693\n",
      "FileNotFound or ValueError:  A00056716\n",
      "IndexError:  A00056723\n",
      "FileNotFound or ValueError:  A00056733\n",
      "IndexError:  A00056762\n",
      "FileNotFound or ValueError:  A00056913\n",
      "FileNotFound or ValueError:  A00056990\n",
      "IndexError:  A00057092\n",
      "FileNotFound or ValueError:  A00057135\n",
      "IndexError:  A00057599\n",
      "IndexError:  A00057630\n",
      "IndexError:  A00058596\n",
      "IndexError:  A00058775\n",
      "IndexError:  A00059063\n",
      "IndexError:  A00059083\n",
      "IndexError:  A00059578\n",
      "IndexError:  A00059904\n",
      "FileNotFound or ValueError:  A00062029\n",
      "FileNotFound or ValueError:  A00062055\n",
      "FileNotFound or ValueError:  A00062125\n",
      "IndexError:  A00062165\n",
      "FileNotFound or ValueError:  A00062219\n",
      "IndexError:  A00062279\n",
      "IndexError:  A00062329\n",
      "FileNotFound or ValueError:  A00062408\n",
      "IndexError:  A00062435\n",
      "IndexError:  A00062453\n",
      "IndexError:  A00062578\n",
      "IndexError:  A00062704\n",
      "IndexError:  A00062842\n",
      "IndexError:  A00062919\n",
      "IndexError:  A00062951\n",
      "IndexError:  A00063029\n",
      "IndexError:  A00063051\n",
      "IndexError:  A00063117\n",
      "IndexError:  A00063377\n",
      "FileNotFound or ValueError:  A00063558\n"
     ]
    }
   ],
   "source": [
    "dfs = []\n",
    "for i in range(1,6):\n",
    "    df = get_all_data(data, all_chans, i)\n",
    "    df.to_csv(\"../dat/ChildMind/spectral_measures_dataframe_\"+str(i)+\".csv\")\n",
    "    dfs.append(df)    "
   ]
  },
  {
   "cell_type": "markdown",
   "metadata": {},
   "source": [
    "## Fooof ratio correlation with age"
   ]
  },
  {
   "cell_type": "code",
   "execution_count": 17,
   "metadata": {},
   "outputs": [],
   "source": [
    "def fooof_ratio_corr(dfs, ratio_type, corr_func):\n",
    "    \"\"\" Finds the correlation between fooof ratio and age\n",
    "        Where fooof ratio := power at center frequency of most salient oscillation\n",
    "        of high band / power at center frequency of most salient oscillation\n",
    "        of low band.\n",
    "    \n",
    "    Parameters\n",
    "    ----------\n",
    "    dfs : list of dataframes\n",
    "    ratio_type : sting\n",
    "        Which bands to use in calculating fooof ratio\n",
    "    corr_func:\n",
    "        Function to calculate correlation\n",
    "        \n",
    "    Return\n",
    "    ------\n",
    "    Mean of correlations.\n",
    "    \"\"\"\n",
    "    \n",
    "    corrs =np.zeros(len(dfs))\n",
    "    for ind, curr_df in enumerate(dfs):\n",
    "    \n",
    "        ratio_type = ratio_type.upper()\n",
    "\n",
    "        numer = get_wave_params(ratio_type[0])[1]\n",
    "        denom = get_wave_params(ratio_type[1])[1]\n",
    "\n",
    "        fooof_ratios = curr_df[numer]/curr_df[denom]\n",
    "\n",
    "        curr_corr = corr_func(curr_df[\"Age\"], fooof_ratios)[0]\n",
    "\n",
    "        corrs[ind] = curr_corr\n",
    "\n",
    "        return np.mean(corrs)"
   ]
  },
  {
   "cell_type": "code",
   "execution_count": 18,
   "metadata": {},
   "outputs": [
    {
     "data": {
      "text/plain": [
       "-0.032498477041243354"
      ]
     },
     "execution_count": 18,
     "metadata": {},
     "output_type": "execute_result"
    }
   ],
   "source": [
    "fooof_ratio_corr(dfs,\"tbr\", nan_corr_spearman)"
   ]
  },
  {
   "cell_type": "code",
   "execution_count": 19,
   "metadata": {},
   "outputs": [
    {
     "data": {
      "text/plain": [
       "-0.020194351633099135"
      ]
     },
     "execution_count": 19,
     "metadata": {},
     "output_type": "execute_result"
    }
   ],
   "source": [
    "fooof_ratio_corr(dfs,\"abr\", nan_corr_spearman)"
   ]
  },
  {
   "cell_type": "code",
   "execution_count": 21,
   "metadata": {},
   "outputs": [
    {
     "data": {
      "text/plain": [
       "-0.02150543626030942"
      ]
     },
     "execution_count": 21,
     "metadata": {},
     "output_type": "execute_result"
    }
   ],
   "source": [
    "fooof_ratio_corr(dfs, \"tar\", nan_corr_spearman)"
   ]
  },
  {
   "cell_type": "markdown",
   "metadata": {},
   "source": [
    "# Trial by Trial Basis\n",
    "\n",
    "This section explores the relationship between band ratios and the aperidic exponent across trials."
   ]
  },
  {
   "cell_type": "code",
   "execution_count": 61,
   "metadata": {},
   "outputs": [],
   "source": [
    "def get_ratio_ap_var(dfs, ratio_type, corr_func):\n",
    "    \"\"\" Describes the stability of correlation between ratio measures \n",
    "        and aperiodic exponent.\n",
    "        \n",
    "        Parameters\n",
    "        ----------\n",
    "        dfs : list of dataframes\n",
    "        ratio_type : sting\n",
    "            Which bands to use in calculating fooof ratio\n",
    "        corr_func:\n",
    "            Function to calculate correlation\n",
    "\n",
    "        Outputs\n",
    "        ------\n",
    "        Variance of correlations.\n",
    "    \"\"\"\n",
    "    corrs = []\n",
    "    for curr_df in dfs:\n",
    "        curr_corr = corr_func(curr_df[\"Exp\"],curr_df[ratio_type])\n",
    "        #print(curr_corr)\n",
    "        if curr_corr[1] <.05:\n",
    "            corrs.append(curr_corr[0])\n",
    "    print(\"variance: \",np.var(corrs))\n",
    "    \n",
    "    plt.title(ratio_type)\n",
    "    plt.xlabel(\"trial\")\n",
    "    plt.ylabel(\"corr\")\n",
    "    plt.plot(corrs)"
   ]
  },
  {
   "cell_type": "code",
   "execution_count": 62,
   "metadata": {},
   "outputs": [
    {
     "name": "stdout",
     "output_type": "stream",
     "text": [
      "variance:  0.045375148395415066\n"
     ]
    },
    {
     "data": {
      "image/png": "[encoded data removed]",
      "text/plain": [
       "<Figure size 432x288 with 1 Axes>"
      ]
     },
     "metadata": {
      "needs_background": "light"
     },
     "output_type": "display_data"
    }
   ],
   "source": [
    "get_ratio_ap_var(dfs,\"TBR\", nan_corr_spearman)"
   ]
  },
  {
   "cell_type": "code",
   "execution_count": 63,
   "metadata": {},
   "outputs": [
    {
     "name": "stdout",
     "output_type": "stream",
     "text": [
      "variance:  0.0016232461646974164\n"
     ]
    },
    {
     "data": {
      "image/png": "[encoded data removed]",
      "text/plain": [
       "<Figure size 432x288 with 1 Axes>"
      ]
     },
     "metadata": {
      "needs_background": "light"
     },
     "output_type": "display_data"
    }
   ],
   "source": [
    "get_ratio_ap_var(dfs,\"ABR\", nan_corr_spearman)"
   ]
  },
  {
   "cell_type": "code",
   "execution_count": 64,
   "metadata": {},
   "outputs": [
    {
     "name": "stdout",
     "output_type": "stream",
     "text": [
      "variance:  0.00028702984652289926\n"
     ]
    },
    {
     "data": {
      "image/png": "[encoded data removed]",
      "text/plain": [
       "<Figure size 432x288 with 1 Axes>"
      ]
     },
     "metadata": {
      "needs_background": "light"
     },
     "output_type": "display_data"
    }
   ],
   "source": [
    "get_ratio_ap_var(dfs,\"TAR\", nan_corr_spearman)"
   ]
  }
 ],
 "metadata": {
  "kernelspec": {
   "display_name": "Python 3",
   "language": "python",
   "name": "python3"
  },
  "language_info": {
   "codemirror_mode": {
    "name": "ipython",
    "version": 3
   },
   "file_extension": ".py",
   "mimetype": "text/x-python",
   "name": "python",
   "nbconvert_exporter": "python",
   "pygments_lexer": "ipython3",
   "version": "3.7.3"
  }
 },
 "nbformat": 4,
 "nbformat_minor": 2
}
