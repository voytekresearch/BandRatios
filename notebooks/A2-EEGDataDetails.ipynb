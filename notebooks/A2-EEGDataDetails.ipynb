{
 "cells": [
  {
   "cell_type": "markdown",
   "metadata": {},
   "source": [
    "## Dataset Descriptions\n",
    "\n",
    "\n",
    "Open Question:\n",
    "- What causes the index error in `get_all_data`. "
   ]
  },
  {
   "cell_type": "code",
   "execution_count": 1,
   "metadata": {},
   "outputs": [],
   "source": [
    "import pandas as pd"
   ]
  },
  {
   "cell_type": "code",
   "execution_count": 2,
   "metadata": {},
   "outputs": [],
   "source": [
    "# Read datafile with dataset information\n",
    "data_info = pd.read_csv(\"../dat/ChildMind/MIPDB_PublicFile.csv\")"
   ]
  },
  {
   "cell_type": "code",
   "execution_count": 3,
   "metadata": {},
   "outputs": [
    {
     "name": "stdout",
     "output_type": "stream",
     "text": [
      "Total number of subjects: \t 126\n"
     ]
    }
   ],
   "source": [
    "# Check how many subjects are in the total dataset \n",
    "n_total = len(data_info['ID'].values)\n",
    "print('Total number of subjects: \\t', n_total)"
   ]
  },
  {
   "cell_type": "code",
   "execution_count": 4,
   "metadata": {},
   "outputs": [],
   "source": [
    "# Load the dataframe of processed data\n",
    "df = pd.read_csv(\"../dat/ChildMind/spectral_measures_dataframe.csv\")"
   ]
  },
  {
   "cell_type": "code",
   "execution_count": 5,
   "metadata": {},
   "outputs": [
    {
     "name": "stdout",
     "output_type": "stream",
     "text": [
      "Number of included subjects: \t 97\n"
     ]
    }
   ],
   "source": [
    "# Check how many subjects we have included\n",
    "n_included = len(set(df['Subj_ID'].values))\n",
    "print('Number of included subjects: \\t', n_included)"
   ]
  },
  {
   "cell_type": "code",
   "execution_count": 6,
   "metadata": {},
   "outputs": [
    {
     "name": "stdout",
     "output_type": "stream",
     "text": [
      "Number of dropped subjects: \t 29\n"
     ]
    }
   ],
   "source": [
    "# Check how many subjects not included in our analysis\n",
    "n_dropped = n_total - n_included\n",
    "print('Number of dropped subjects: \\t', n_dropped)"
   ]
  },
  {
   "cell_type": "code",
   "execution_count": 8,
   "metadata": {},
   "outputs": [],
   "source": [
    "# Check how many subject do not have resting state data available\n",
    "n_missing = sum(data_info.EEG_resting == 0)"
   ]
  },
  {
   "cell_type": "code",
   "execution_count": 25,
   "metadata": {},
   "outputs": [
    {
     "name": "stdout",
     "output_type": "stream",
     "text": [
      "{'A00057135', 'A00056640', 'A00055923', 'A00056733', 'A00056158', 'A00055801', 'A00056990', 'A00054122', 'A00052593'}\n"
     ]
    }
   ],
   "source": [
    "# Check the IDs of the subjects missing EEG data\n",
    "missing_ids = set(data_info.ID[data_info.EEG_resting == 0].values)\n",
    "print(missing_ids)"
   ]
  },
  {
   "cell_type": "code",
   "execution_count": 35,
   "metadata": {},
   "outputs": [],
   "source": [
    "# Get the list of IDs of subjects we didn't use\n",
    "dropped_ids = set(data_info.ID.values) - set(df.Subj_ID.values)"
   ]
  },
  {
   "cell_type": "code",
   "execution_count": 36,
   "metadata": {
    "scrolled": true
   },
   "outputs": [],
   "source": [
    "# Remove IDs that are listed as having no data\n",
    "cur = dropped_ids - missing_ids"
   ]
  },
  {
   "cell_type": "code",
   "execution_count": 37,
   "metadata": {},
   "outputs": [
    {
     "data": {
      "text/plain": [
       "20"
      ]
     },
     "execution_count": 37,
     "metadata": {},
     "output_type": "execute_result"
    }
   ],
   "source": [
    "len(cur)"
   ]
  },
  {
   "cell_type": "code",
   "execution_count": 38,
   "metadata": {},
   "outputs": [
    {
     "data": {
      "text/plain": [
       "{'A00053398',\n",
       " 'A00053480',\n",
       " 'A00054239',\n",
       " 'A00054359',\n",
       " 'A00054469',\n",
       " 'A00054488',\n",
       " 'A00054666',\n",
       " 'A00054836',\n",
       " 'A00054866',\n",
       " 'A00055623',\n",
       " 'A00055628',\n",
       " 'A00056116',\n",
       " 'A00056716',\n",
       " 'A00056913',\n",
       " 'A00062029',\n",
       " 'A00062055',\n",
       " 'A00062125',\n",
       " 'A00062219',\n",
       " 'A00062408',\n",
       " 'A00063558'}"
      ]
     },
     "execution_count": 38,
     "metadata": {},
     "output_type": "execute_result"
    }
   ],
   "source": [
    "cur"
   ]
  },
  {
   "cell_type": "code",
   "execution_count": null,
   "metadata": {},
   "outputs": [],
   "source": []
  },
  {
   "cell_type": "code",
   "execution_count": 39,
   "metadata": {},
   "outputs": [],
   "source": [
    "SKIP_SUBJS = set(['A00054488', 'A00054866', 'A00055623', 'A00056716', 'A00056733'])"
   ]
  },
  {
   "cell_type": "code",
   "execution_count": null,
   "metadata": {},
   "outputs": [],
   "source": [
    "cur = cur - SKIP_SUBJS"
   ]
  },
  {
   "cell_type": "code",
   "execution_count": 44,
   "metadata": {},
   "outputs": [],
   "source": [
    "# IndexErrors in `get_all_data`:\n",
    "#   ToDo: Figure out what this is!\n",
    "ind_errors = set(['A00053480', 'A00054239'])"
   ]
  },
  {
   "cell_type": "code",
   "execution_count": 45,
   "metadata": {},
   "outputs": [],
   "source": [
    "cur = cur - ind_errors"
   ]
  },
  {
   "cell_type": "code",
   "execution_count": null,
   "metadata": {},
   "outputs": [],
   "source": []
  },
  {
   "cell_type": "code",
   "execution_count": null,
   "metadata": {},
   "outputs": [],
   "source": []
  },
  {
   "cell_type": "code",
   "execution_count": 46,
   "metadata": {},
   "outputs": [
    {
     "data": {
      "text/plain": [
       "14"
      ]
     },
     "execution_count": 46,
     "metadata": {},
     "output_type": "execute_result"
    }
   ],
   "source": [
    "len(cur)"
   ]
  },
  {
   "cell_type": "code",
   "execution_count": 47,
   "metadata": {},
   "outputs": [
    {
     "data": {
      "text/plain": [
       "{'A00053398',\n",
       " 'A00054359',\n",
       " 'A00054469',\n",
       " 'A00054666',\n",
       " 'A00054836',\n",
       " 'A00055628',\n",
       " 'A00056116',\n",
       " 'A00056913',\n",
       " 'A00062029',\n",
       " 'A00062055',\n",
       " 'A00062125',\n",
       " 'A00062219',\n",
       " 'A00062408',\n",
       " 'A00063558'}"
      ]
     },
     "execution_count": 47,
     "metadata": {},
     "output_type": "execute_result"
    }
   ],
   "source": [
    "cur"
   ]
  },
  {
   "cell_type": "markdown",
   "metadata": {},
   "source": [
    "Missing data subject annotations:\n",
    "\n",
    "Files without a properly named resting state file as '001':\n",
    "- 'A00053398', \n",
    "- ''\n",
    "- ''\n",
    "\n"
   ]
  },
  {
   "cell_type": "code",
   "execution_count": null,
   "metadata": {},
   "outputs": [],
   "source": []
  },
  {
   "cell_type": "code",
   "execution_count": null,
   "metadata": {},
   "outputs": [],
   "source": []
  }
 ],
 "metadata": {
  "kernelspec": {
   "display_name": "Python 3",
   "language": "python",
   "name": "python3"
  },
  "language_info": {
   "codemirror_mode": {
    "name": "ipython",
    "version": 3
   },
   "file_extension": ".py",
   "mimetype": "text/x-python",
   "name": "python",
   "nbconvert_exporter": "python",
   "pygments_lexer": "ipython3",
   "version": "3.7.3"
  }
 },
 "nbformat": 4,
 "nbformat_minor": 2
}
