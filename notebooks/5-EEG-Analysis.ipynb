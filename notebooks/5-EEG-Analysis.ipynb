{
 "cells": [
  {
   "cell_type": "markdown",
   "metadata": {},
   "source": [
    "# EEG Analysis\n",
    "\n",
    "In this notebook, we will analyze an EEG dataset, the [MIPDB dataset](http://fcon_1000.projects.nitrc.org/indi/cmi_eeg/) from the [ChildMind Institute](https://childmind.org).\n",
    "\n",
    "Note that the pre-processing of the data as available in the dataset, doing data cleaning and calculating power spectra, is done external to this project. The resultant power spectra from this process are available in the `data` folder. \n",
    "\n",
    "In this analysis, we will process the power spectra, calculating band ratio measures and parameterizing spectral features, and examine their inter-relations."
   ]
  },
  {
   "cell_type": "code",
   "execution_count": 1,
   "metadata": {},
   "outputs": [],
   "source": [
    "%matplotlib inline\n",
    "\n",
    "import csv\n",
    "\n",
    "import pandas as pd\n",
    "import seaborn as sns\n",
    "sns.set_context('talk')\n",
    "\n",
    "import mne"
   ]
  },
  {
   "cell_type": "code",
   "execution_count": 2,
   "metadata": {},
   "outputs": [],
   "source": [
    "# Import custom project code\n",
    "import sys\n",
    "sys.path.append('../bratios')\n",
    "from bootstrap import bootstrap_corr, bootstrap_diff\n",
    "from utils import print_stat, print_stats, print_ap_corrs\n",
    "from analysis import (get_all_data, nan_corr_spearman,\n",
    "                      param_corr, param_ratio_corr, param_ratio_boot_corr)\n",
    "from plot import plot_param_ratio_corr, plot_param_ratio_corr_exp\n",
    "\n",
    "from settings import BAND_NAMES, RATIO_NAMES, FEATURE_LABELS\n",
    "from paths import DATA_PATHS as dp"
   ]
  },
  {
   "cell_type": "code",
   "execution_count": 3,
   "metadata": {},
   "outputs": [],
   "source": [
    "# Settings\n",
    "SAVE_FIG = False\n",
    "PROCESS_DATA = False   # If False, reload previously processed & saved data\n",
    "SHOW_SUB = False       # Whether to display correlation plots for channel sub-selections\n",
    "SHOW_EXP = False       # Whether to display plots for the aperiodic exponent correlation"
   ]
  },
  {
   "cell_type": "markdown",
   "metadata": {},
   "source": [
    "## Import Data\n",
    "\n",
    "Here we import power spectra and select channel clusters from the EEG montage that was used."
   ]
  },
  {
   "cell_type": "code",
   "execution_count": 4,
   "metadata": {},
   "outputs": [],
   "source": [
    "# Read datafile with dataset information\n",
    "data = pd.read_csv(dp.make_file_path(dp.eeg_meta, 'MIPDB_PublicFile', 'csv'))"
   ]
  },
  {
   "cell_type": "code",
   "execution_count": 5,
   "metadata": {
    "scrolled": true
   },
   "outputs": [],
   "source": [
    "# Read in list of channel names that are kept in reduced 111 montage\n",
    "with open(dp.make_file_path(dp.eeg_meta, 'chans111', 'csv'), 'r') as csv_file:\n",
    "    reader = csv.reader(csv_file)\n",
    "    ch_labels = list(reader)[0]"
   ]
  },
  {
   "cell_type": "code",
   "execution_count": 6,
   "metadata": {},
   "outputs": [],
   "source": [
    "# Read channel montage\n",
    "montage = mne.channels.make_standard_montage('GSN-HydroCel-129')"
   ]
  },
  {
   "cell_type": "code",
   "execution_count": 7,
   "metadata": {},
   "outputs": [],
   "source": [
    "# Get the list of all channels\n",
    "all_chans = mne.pick_channels(montage.ch_names, ch_labels)"
   ]
  },
  {
   "cell_type": "code",
   "execution_count": 8,
   "metadata": {},
   "outputs": [],
   "source": [
    "# Define channel clusters of interest\n",
    "ch_cluster_frontal = ['E15', 'E18', 'E16', 'E10', 'E11']\n",
    "ch_cluster_central = ['E7','E106', 'E31', 'Cz', 'E80']\n",
    "ch_cluster_parietal = ['E71', 'E76', 'E70', 'E75', 'E83']\n",
    "\n",
    "# Get the indices of the channels of interest\n",
    "ch_inds_frontal = mne.pick_channels(montage.ch_names, ch_cluster_frontal)\n",
    "ch_inds_central = mne.pick_channels(montage.ch_names, ch_cluster_central)\n",
    "ch_inds_parietal = mne.pick_channels(montage.ch_names, ch_cluster_parietal)"
   ]
  },
  {
   "cell_type": "code",
   "execution_count": 9,
   "metadata": {},
   "outputs": [],
   "source": [
    "# Get a list of all channels of interest\n",
    "ch_interest = ch_cluster_frontal + ch_cluster_central + ch_cluster_parietal\n",
    "montage.selection = ch_interest"
   ]
  },
  {
   "cell_type": "markdown",
   "metadata": {},
   "source": [
    "# Correlation between Spectral Parameters and Ratio Measures\n",
    "\n",
    "Below we run our data through a process which returns a dataframe where each row is a specific channel from a subject. \n",
    "\n",
    "Columns include spectral parameters for alpha, beta, and theta oscillations as well as theta/beta ratio, theta/alpha ratio, and alpha/beta ratio."
   ]
  },
  {
   "cell_type": "code",
   "execution_count": 10,
   "metadata": {
    "scrolled": false
   },
   "outputs": [],
   "source": [
    "# Create the dataframe of all the data\n",
    "if PROCESS_DATA:\n",
    "    \n",
    "    # Load and process the data\n",
    "    df = get_all_data(data, all_chans)\n",
    "    \n",
    "    # Save out the contructed dataframe\n",
    "    df.to_csv(dp.make_file_path(dp.eeg_outputs, 'spectral_measures_dataframe', 'csv'),\n",
    "              index=False)\n",
    "\n",
    "else:\n",
    "    # Reload the dataframe\n",
    "    df = pd.read_csv(dp.make_file_path(dp.eeg_outputs, 'spectral_measures_dataframe', 'csv'))"
   ]
  },
  {
   "cell_type": "markdown",
   "metadata": {},
   "source": [
    "The above process creates a dataframe which each measure calculated and extracted for each subject, each channel."
   ]
  },
  {
   "cell_type": "code",
   "execution_count": 11,
   "metadata": {},
   "outputs": [
    {
     "data": {
      "text/html": [
       "<div>\n",
       "<style scoped>\n",
       "    .dataframe tbody tr th:only-of-type {\n",
       "        vertical-align: middle;\n",
       "    }\n",
       "\n",
       "    .dataframe tbody tr th {\n",
       "        vertical-align: top;\n",
       "    }\n",
       "\n",
       "    .dataframe thead th {\n",
       "        text-align: right;\n",
       "    }\n",
       "</style>\n",
       "<table border=\"1\" class=\"dataframe\">\n",
       "  <thead>\n",
       "    <tr style=\"text-align: right;\">\n",
       "      <th></th>\n",
       "      <th>ABR</th>\n",
       "      <th>Age</th>\n",
       "      <th>Alpha_BW</th>\n",
       "      <th>Alpha_CF</th>\n",
       "      <th>Alpha_PW</th>\n",
       "      <th>Beta_BW</th>\n",
       "      <th>Beta_CF</th>\n",
       "      <th>Beta_PW</th>\n",
       "      <th>Chan_ID</th>\n",
       "      <th>Exp</th>\n",
       "      <th>Off</th>\n",
       "      <th>Subj_ID</th>\n",
       "      <th>TAR</th>\n",
       "      <th>TBR</th>\n",
       "      <th>Theta_BW</th>\n",
       "      <th>Theta_CF</th>\n",
       "      <th>Theta_PW</th>\n",
       "      <th>fit_error</th>\n",
       "      <th>fit_n_peaks</th>\n",
       "      <th>fit_r2</th>\n",
       "    </tr>\n",
       "  </thead>\n",
       "  <tbody>\n",
       "    <tr>\n",
       "      <th>0</th>\n",
       "      <td>7.813890</td>\n",
       "      <td>10.0</td>\n",
       "      <td>2.576703</td>\n",
       "      <td>10.435449</td>\n",
       "      <td>0.632868</td>\n",
       "      <td>1.000000</td>\n",
       "      <td>21.527198</td>\n",
       "      <td>0.400035</td>\n",
       "      <td>0.0</td>\n",
       "      <td>1.861029</td>\n",
       "      <td>1.198543</td>\n",
       "      <td>A00051826</td>\n",
       "      <td>1.910381</td>\n",
       "      <td>14.927507</td>\n",
       "      <td>2.465467</td>\n",
       "      <td>7.168887</td>\n",
       "      <td>0.620085</td>\n",
       "      <td>0.059703</td>\n",
       "      <td>6.0</td>\n",
       "      <td>0.985572</td>\n",
       "    </tr>\n",
       "    <tr>\n",
       "      <th>1</th>\n",
       "      <td>6.434886</td>\n",
       "      <td>10.0</td>\n",
       "      <td>2.486382</td>\n",
       "      <td>10.419302</td>\n",
       "      <td>0.437829</td>\n",
       "      <td>1.000000</td>\n",
       "      <td>21.621280</td>\n",
       "      <td>0.398605</td>\n",
       "      <td>1.0</td>\n",
       "      <td>1.921815</td>\n",
       "      <td>1.667305</td>\n",
       "      <td>A00051826</td>\n",
       "      <td>2.560303</td>\n",
       "      <td>16.475258</td>\n",
       "      <td>2.423633</td>\n",
       "      <td>7.288577</td>\n",
       "      <td>0.636508</td>\n",
       "      <td>0.075356</td>\n",
       "      <td>5.0</td>\n",
       "      <td>0.981487</td>\n",
       "    </tr>\n",
       "    <tr>\n",
       "      <th>2</th>\n",
       "      <td>7.159705</td>\n",
       "      <td>10.0</td>\n",
       "      <td>3.150005</td>\n",
       "      <td>10.162052</td>\n",
       "      <td>0.562540</td>\n",
       "      <td>1.561147</td>\n",
       "      <td>23.902277</td>\n",
       "      <td>0.436887</td>\n",
       "      <td>2.0</td>\n",
       "      <td>1.928513</td>\n",
       "      <td>1.440073</td>\n",
       "      <td>A00051826</td>\n",
       "      <td>2.345069</td>\n",
       "      <td>16.790004</td>\n",
       "      <td>1.000000</td>\n",
       "      <td>7.672382</td>\n",
       "      <td>0.571536</td>\n",
       "      <td>0.062042</td>\n",
       "      <td>8.0</td>\n",
       "      <td>0.986960</td>\n",
       "    </tr>\n",
       "    <tr>\n",
       "      <th>3</th>\n",
       "      <td>7.314351</td>\n",
       "      <td>10.0</td>\n",
       "      <td>3.084685</td>\n",
       "      <td>10.129066</td>\n",
       "      <td>0.540991</td>\n",
       "      <td>1.116479</td>\n",
       "      <td>23.754142</td>\n",
       "      <td>0.321803</td>\n",
       "      <td>3.0</td>\n",
       "      <td>1.994314</td>\n",
       "      <td>1.536313</td>\n",
       "      <td>A00051826</td>\n",
       "      <td>2.292491</td>\n",
       "      <td>16.768082</td>\n",
       "      <td>1.291792</td>\n",
       "      <td>6.405548</td>\n",
       "      <td>0.463999</td>\n",
       "      <td>0.060083</td>\n",
       "      <td>8.0</td>\n",
       "      <td>0.987369</td>\n",
       "    </tr>\n",
       "    <tr>\n",
       "      <th>4</th>\n",
       "      <td>8.363157</td>\n",
       "      <td>10.0</td>\n",
       "      <td>2.832392</td>\n",
       "      <td>10.198237</td>\n",
       "      <td>0.541733</td>\n",
       "      <td>1.000000</td>\n",
       "      <td>23.822393</td>\n",
       "      <td>0.201616</td>\n",
       "      <td>4.0</td>\n",
       "      <td>2.005431</td>\n",
       "      <td>1.579849</td>\n",
       "      <td>A00051826</td>\n",
       "      <td>2.600753</td>\n",
       "      <td>21.750502</td>\n",
       "      <td>1.621394</td>\n",
       "      <td>6.952035</td>\n",
       "      <td>0.554800</td>\n",
       "      <td>0.071300</td>\n",
       "      <td>5.0</td>\n",
       "      <td>0.984456</td>\n",
       "    </tr>\n",
       "  </tbody>\n",
       "</table>\n",
       "</div>"
      ],
      "text/plain": [
       "        ABR   Age  Alpha_BW   Alpha_CF  Alpha_PW   Beta_BW    Beta_CF  \\\n",
       "0  7.813890  10.0  2.576703  10.435449  0.632868  1.000000  21.527198   \n",
       "1  6.434886  10.0  2.486382  10.419302  0.437829  1.000000  21.621280   \n",
       "2  7.159705  10.0  3.150005  10.162052  0.562540  1.561147  23.902277   \n",
       "3  7.314351  10.0  3.084685  10.129066  0.540991  1.116479  23.754142   \n",
       "4  8.363157  10.0  2.832392  10.198237  0.541733  1.000000  23.822393   \n",
       "\n",
       "    Beta_PW  Chan_ID       Exp       Off    Subj_ID       TAR        TBR  \\\n",
       "0  0.400035      0.0  1.861029  1.198543  A00051826  1.910381  14.927507   \n",
       "1  0.398605      1.0  1.921815  1.667305  A00051826  2.560303  16.475258   \n",
       "2  0.436887      2.0  1.928513  1.440073  A00051826  2.345069  16.790004   \n",
       "3  0.321803      3.0  1.994314  1.536313  A00051826  2.292491  16.768082   \n",
       "4  0.201616      4.0  2.005431  1.579849  A00051826  2.600753  21.750502   \n",
       "\n",
       "   Theta_BW  Theta_CF  Theta_PW  fit_error  fit_n_peaks    fit_r2  \n",
       "0  2.465467  7.168887  0.620085   0.059703          6.0  0.985572  \n",
       "1  2.423633  7.288577  0.636508   0.075356          5.0  0.981487  \n",
       "2  1.000000  7.672382  0.571536   0.062042          8.0  0.986960  \n",
       "3  1.291792  6.405548  0.463999   0.060083          8.0  0.987369  \n",
       "4  1.621394  6.952035  0.554800   0.071300          5.0  0.984456  "
      ]
     },
     "execution_count": 11,
     "metadata": {},
     "output_type": "execute_result"
    }
   ],
   "source": [
    "# Check out the created dataframe\n",
    "df.head()"
   ]
  },
  {
   "cell_type": "markdown",
   "metadata": {},
   "source": [
    "Now, we can use the function `param_ratio_corr()` to find the correlations between a ratio measure and all spectral parameters.\n",
    "\n",
    "We can now do that, stepping through each ratio measure, and sub-selecting different channel clusters, as we wish. \n",
    "\n",
    "In the subsequent analyses, we will display the correlation matrices for the global results (across all channels). \n",
    "\n",
    "We also calculate and save out figure for each channel cluster, which are saved and available in the `figures` folder."
   ]
  },
  {
   "cell_type": "markdown",
   "metadata": {},
   "source": [
    "## Theta Beta Ratio (TBR)\n",
    "\n",
    "Compare the theta / beta ratio to spectral parameters."
   ]
  },
  {
   "cell_type": "markdown",
   "metadata": {},
   "source": [
    "### Global\n",
    "\n",
    "Calculate the relationship between ratio measure and spectral features, across all channels."
   ]
  },
  {
   "cell_type": "code",
   "execution_count": 12,
   "metadata": {},
   "outputs": [],
   "source": [
    "# Calculate the correlation between ratios and spectral features\n",
    "tbr_pe_rs, tbr_ap_rs, tbr_pe_cis, tbr_ap_cis, tbr_pe_ps, tbr_ap_ps = \\\n",
    "    param_ratio_boot_corr(df, \"TBR\", all_chans, corr_func=nan_corr_spearman)"
   ]
  },
  {
   "cell_type": "code",
   "execution_count": 13,
   "metadata": {},
   "outputs": [
    {
     "name": "stdout",
     "output_type": "stream",
     "text": [
      "Theta\n",
      "\t CF \t -0.0040    [-0.1974, +0.1926]    0.9676\n",
      "\t PW \t +0.3439    [+0.1431, +0.5155]    0.0003\n",
      "\t BW \t +0.3137    [+0.1148, +0.4924]    0.0009\n",
      "Alpha\n",
      "\t CF \t -0.4181    [-0.5578, -0.2563]    0.0000\n",
      "\t PW \t -0.0246    [-0.2133, +0.1693]    0.7978\n",
      "\t BW \t +0.0190    [-0.1821, +0.2211]    0.8434\n",
      "Beta\n",
      "\t CF \t -0.0718    [-0.2634, +0.1256]    0.4537\n",
      "\t PW \t -0.2841    [-0.4553, -0.0995]    0.0025\n",
      "\t BW \t -0.0790    [-0.2601, +0.1087]    0.4101\n"
     ]
    }
   ],
   "source": [
    "# Print out statistics for the TBR\n",
    "print_stats(tbr_pe_rs, tbr_pe_cis, tbr_pe_ps, BAND_NAMES, FEATURE_LABELS)"
   ]
  },
  {
   "cell_type": "code",
   "execution_count": 14,
   "metadata": {},
   "outputs": [
    {
     "name": "stdout",
     "output_type": "stream",
     "text": [
      "Corr of TBR to Exp:    +0.77    [+0.6597, +0.8423]    0.0000\n",
      "Corr of TBR to Off:    +0.76    [+0.6535, +0.8309]    0.0000\n",
      "Corr of TBR to Age:    -0.67    [-0.7587, -0.5445]    0.0000\n"
     ]
    }
   ],
   "source": [
    "# Print out results of correlates between ratio and aperiodic & demographic features\n",
    "print_ap_corrs(\"TBR\", tbr_ap_rs, tbr_ap_cis, tbr_ap_ps)"
   ]
  },
  {
   "cell_type": "code",
   "execution_count": 15,
   "metadata": {},
   "outputs": [
    {
     "data": {
      "image/png": "[encoded data removed]",
      "text/plain": [
       "<Figure size 432x288 with 2 Axes>"
      ]
     },
     "metadata": {
      "needs_background": "light"
     },
     "output_type": "display_data"
    }
   ],
   "source": [
    "# Plot the correlation matrix of the ratio measure and spectral features\n",
    "plot_param_ratio_corr(tbr_pe_rs, show=True,\n",
    "                      save_fig=SAVE_FIG, file_name=\"Global_TBR_corrs\")\n",
    "plot_param_ratio_corr_exp(tbr_ap_rs, show=SHOW_EXP,\n",
    "                          save_fig=SAVE_FIG, file_name=\"Global_TBR_corrs\")"
   ]
  },
  {
   "cell_type": "markdown",
   "metadata": {},
   "source": [
    "### Channel Sub-Selections\n",
    "\n",
    "The next set of cells calculates the same measures on channel sub-selections.\n",
    "\n",
    "By default, these plots are not displayed, but are available in `figures`."
   ]
  },
  {
   "cell_type": "code",
   "execution_count": 16,
   "metadata": {},
   "outputs": [],
   "source": [
    "# Frontal Channels\n",
    "tbr_pe_fr, tbr_ap_fr, _, _ = param_ratio_corr(df, \"TBR\", ch_inds_frontal, func=nan_corr_spearman)\n",
    "print_ap_corrs(\"TBR\", tbr_ap_fr, show=SHOW_SUB)\n",
    "\n",
    "plot_param_ratio_corr(tbr_pe_fr, show=SHOW_SUB,\n",
    "                      save_fig=SAVE_FIG, file_name=\"Frontal_TBR_corrs\")\n",
    "plot_param_ratio_corr_exp(tbr_ap_fr, show=False,\n",
    "                          save_fig=SAVE_FIG, file_name=\"Frontal_TBR_corrs\")"
   ]
  },
  {
   "cell_type": "code",
   "execution_count": 17,
   "metadata": {},
   "outputs": [],
   "source": [
    "# Central channels\n",
    "tbr_pe_ce, tbr_ap_ce, _, _ = param_ratio_corr(df, \"TBR\", ch_inds_central, func=nan_corr_spearman)\n",
    "print_ap_corrs(\"TBR\", tbr_ap_ce, show=SHOW_SUB)\n",
    "\n",
    "plot_param_ratio_corr(tbr_pe_ce, show=SHOW_SUB,\n",
    "                      save_fig=SAVE_FIG, file_name=\"Central_TBR_corrs\")\n",
    "plot_param_ratio_corr_exp(tbr_ap_ce, show=False,\n",
    "                          save_fig=SAVE_FIG, file_name=\"Central_TBR_corrs\")"
   ]
  },
  {
   "cell_type": "code",
   "execution_count": 18,
   "metadata": {},
   "outputs": [],
   "source": [
    "# Parietal channels\n",
    "tbr_pe_pa, tbr_ap_pa, _, _ = param_ratio_corr(df, \"TBR\", ch_inds_parietal, func=nan_corr_spearman)\n",
    "print_ap_corrs(\"TBR\", tbr_ap_pa, show=SHOW_SUB)\n",
    "\n",
    "plot_param_ratio_corr(tbr_pe_pa, show=SHOW_SUB,\n",
    "                      save_fig=SAVE_FIG, file_name=\"Parietal_TBR_corrs\")\n",
    "plot_param_ratio_corr_exp(tbr_ap_pa, show=False,\n",
    "                          save_fig=SAVE_FIG, file_name=\"Parietal_TBR_corrs\")"
   ]
  },
  {
   "cell_type": "markdown",
   "metadata": {},
   "source": [
    "## TAR: Theta Alpha Ratio\n",
    "\n",
    "Compare the theta / alpha ratio to spectral parameters."
   ]
  },
  {
   "cell_type": "markdown",
   "metadata": {},
   "source": [
    "### Global\n",
    "\n",
    "Calculate the relationship between ratio measure and spectral features, across all channels."
   ]
  },
  {
   "cell_type": "code",
   "execution_count": 19,
   "metadata": {},
   "outputs": [],
   "source": [
    "# Calculate the correlation between ratios and spectral features\n",
    "tar_pe_rs, tar_ap_rs, tar_pe_cis, tar_ap_cis, tar_pe_ps, tar_ap_ps = \\\n",
    "    param_ratio_boot_corr(df, \"TAR\", all_chans, corr_func=nan_corr_spearman)"
   ]
  },
  {
   "cell_type": "code",
   "execution_count": 20,
   "metadata": {},
   "outputs": [
    {
     "name": "stdout",
     "output_type": "stream",
     "text": [
      "Theta\n",
      "\t CF \t -0.3343    [-0.4887, -0.1615]    0.0004\n",
      "\t PW \t -0.2049    [-0.3912, -0.0101]    0.0334\n",
      "\t BW \t +0.2069    [+0.0166, +0.3792]    0.0317\n",
      "Alpha\n",
      "\t CF \t -0.0826    [-0.2734, +0.1133]    0.3890\n",
      "\t PW \t -0.8934    [-0.9284, -0.8391]    0.0000\n",
      "\t BW \t -0.1764    [-0.3515, +0.0065]    0.0641\n",
      "Beta\n",
      "\t CF \t +0.2152    [+0.0267, +0.3880]    0.0233\n",
      "\t PW \t -0.3993    [-0.5622, -0.2127]    0.0000\n",
      "\t BW \t -0.3164    [-0.4798, -0.1352]    0.0007\n"
     ]
    }
   ],
   "source": [
    "# Print out statistics for the TAR\n",
    "print_stats(tar_pe_rs, tar_pe_cis, tar_pe_ps, BAND_NAMES, FEATURE_LABELS)"
   ]
  },
  {
   "cell_type": "code",
   "execution_count": 21,
   "metadata": {},
   "outputs": [
    {
     "name": "stdout",
     "output_type": "stream",
     "text": [
      "Corr of TAR to Exp:    +0.26    [+0.0877, +0.4302]    0.0052\n",
      "Corr of TAR to Off:    +0.26    [+0.0672, +0.4329]    0.0050\n",
      "Corr of TAR to Age:    -0.37    [-0.5215, -0.2068]    0.0001\n"
     ]
    }
   ],
   "source": [
    "# Print out results of correlates between ratio and aperiodic & demographic features\n",
    "print_ap_corrs(\"TAR\", tar_ap_rs, tar_ap_cis, tar_ap_ps)"
   ]
  },
  {
   "cell_type": "code",
   "execution_count": 22,
   "metadata": {},
   "outputs": [
    {
     "data": {
      "image/png": "[encoded data removed]",
      "text/plain": [
       "<Figure size 432x288 with 2 Axes>"
      ]
     },
     "metadata": {
      "needs_background": "light"
     },
     "output_type": "display_data"
    }
   ],
   "source": [
    "# Plot the correlation matrix of the ratio measure and spectral features\n",
    "plot_param_ratio_corr(tar_pe_rs, show=True,\n",
    "                      save_fig=SAVE_FIG, file_name=\"Global_TAR_corrs\")\n",
    "plot_param_ratio_corr_exp(tar_ap_rs, show=SHOW_EXP,\n",
    "                          save_fig=SAVE_FIG, file_name=\"Global_TAR_corrs\")"
   ]
  },
  {
   "cell_type": "markdown",
   "metadata": {},
   "source": [
    "### Channel Sub-Selections\n",
    "\n",
    "The next set of cells calculates the same measures on channel sub-selections.\n",
    "\n",
    "By default, these plots are not displayed, but are available in `figures`."
   ]
  },
  {
   "cell_type": "code",
   "execution_count": 23,
   "metadata": {},
   "outputs": [],
   "source": [
    "# Frontal Channels\n",
    "tar_pe_fr, tar_ap_fr, _, _ = param_ratio_corr(df, \"TAR\", ch_inds_frontal, func=nan_corr_spearman)\n",
    "print_ap_corrs(\"TAR\", tar_ap_fr, show=SHOW_SUB)\n",
    "\n",
    "plot_param_ratio_corr(tar_pe_fr, show=SHOW_SUB,\n",
    "                      save_fig=SAVE_FIG, file_name=\"Frontal_TAR_corrs\")\n",
    "plot_param_ratio_corr_exp(tar_ap_fr, show=False,\n",
    "                          save_fig=SAVE_FIG, file_name=\"Frontal_TAR_corrs\")"
   ]
  },
  {
   "cell_type": "code",
   "execution_count": 24,
   "metadata": {},
   "outputs": [],
   "source": [
    "# Central Channels\n",
    "tar_pe_ce, tar_ap_ce, _, _ = param_ratio_corr(df, \"TAR\", ch_inds_central, func=nan_corr_spearman)\n",
    "print_ap_corrs(\"TAR\", tar_ap_ce, show=SHOW_SUB)\n",
    "\n",
    "plot_param_ratio_corr(tar_pe_ce, show=SHOW_SUB,\n",
    "                      save_fig=SAVE_FIG, file_name=\"Central_TAR_corrs\")\n",
    "plot_param_ratio_corr_exp(tar_ap_ce, show=False,\n",
    "                          save_fig=SAVE_FIG, file_name=\"Central_TAR_corrs\")"
   ]
  },
  {
   "cell_type": "code",
   "execution_count": 25,
   "metadata": {},
   "outputs": [],
   "source": [
    "# Parietal Channels\n",
    "tar_pe_pa, tar_ap_pa, _, _ = param_ratio_corr(df, \"TAR\", ch_inds_parietal, func=nan_corr_spearman)\n",
    "print_ap_corrs(\"TAR\", tar_ap_pa, show=SHOW_SUB)\n",
    "\n",
    "plot_param_ratio_corr(tar_pe_pa, show=SHOW_SUB,\n",
    "                      save_fig=SAVE_FIG, file_name=\"Parietal_TAR_corrs\")\n",
    "plot_param_ratio_corr_exp(tar_ap_pa, show=False,\n",
    "                          save_fig=SAVE_FIG, file_name=\"Parietal_TAR_corrs\")"
   ]
  },
  {
   "cell_type": "markdown",
   "metadata": {},
   "source": [
    "## Alpha Beta Ratio (ABR)\n",
    "\n",
    "Compare the alpha / beta ratio to spectral parameters."
   ]
  },
  {
   "cell_type": "markdown",
   "metadata": {},
   "source": [
    "### Global\n",
    "\n",
    "Calculate the relationship between ratio measure and spectral features, across all channels."
   ]
  },
  {
   "cell_type": "code",
   "execution_count": 26,
   "metadata": {},
   "outputs": [],
   "source": [
    "# Calculate the correlation between ratios and spectral features\n",
    "abr_pe_rs, abr_ap_rs, abr_pe_cis, abr_ap_cis, abr_pe_ps, abr_ap_ps = \\\n",
    "    param_ratio_boot_corr(df, \"ABR\", all_chans, corr_func=nan_corr_spearman)"
   ]
  },
  {
   "cell_type": "code",
   "execution_count": 27,
   "metadata": {},
   "outputs": [
    {
     "name": "stdout",
     "output_type": "stream",
     "text": [
      "Theta\n",
      "\t CF \t +0.3067    [+0.1219, +0.4656]    0.0012\n",
      "\t PW \t +0.4508    [+0.2962, +0.5783]    0.0000\n",
      "\t BW \t +0.0186    [-0.1755, +0.2155]    0.8481\n",
      "Alpha\n",
      "\t CF \t -0.2348    [-0.4071, -0.0451]    0.0131\n",
      "\t PW \t +0.8685    [+0.7848, +0.9197]    0.0000\n",
      "\t BW \t +0.1368    [-0.0602, +0.3296]    0.1522\n",
      "Beta\n",
      "\t CF \t -0.1995    [-0.3782, -0.0086]    0.0358\n",
      "\t PW \t +0.1957    [+0.0038, +0.3746]    0.0396\n",
      "\t BW \t +0.2642    [+0.0763, +0.4390]    0.0051\n"
     ]
    }
   ],
   "source": [
    "# Print out statistics for the ABR\n",
    "print_stats(abr_pe_rs, abr_pe_cis, abr_pe_ps, BAND_NAMES, FEATURE_LABELS)"
   ]
  },
  {
   "cell_type": "code",
   "execution_count": 28,
   "metadata": {},
   "outputs": [
    {
     "name": "stdout",
     "output_type": "stream",
     "text": [
      "Corr of ABR to Exp:    +0.32    [+0.1378, +0.4898]    0.0005\n",
      "Corr of ABR to Off:    +0.30    [+0.1095, +0.4752]    0.0015\n",
      "Corr of ABR to Age:    -0.12    [-0.2993, +0.0740]    0.2242\n"
     ]
    }
   ],
   "source": [
    "# Print out results of correlates between ratio and aperiodic & demographic features\n",
    "print_ap_corrs(\"ABR\", abr_ap_rs, abr_ap_cis, abr_ap_ps)"
   ]
  },
  {
   "cell_type": "code",
   "execution_count": 29,
   "metadata": {},
   "outputs": [
    {
     "data": {
      "image/png": "[encoded data removed]",
      "text/plain": [
       "<Figure size 432x288 with 2 Axes>"
      ]
     },
     "metadata": {
      "needs_background": "light"
     },
     "output_type": "display_data"
    }
   ],
   "source": [
    "# Plot the correlation matrix of the ratio measure and spectral features\n",
    "plot_param_ratio_corr(abr_pe_rs, show=True,\n",
    "                      save_fig=SAVE_FIG, file_name=\"Global_ABR_corrs\")\n",
    "plot_param_ratio_corr_exp(abr_ap_rs, show=SHOW_EXP,\n",
    "                          save_fig=SAVE_FIG, file_name=\"Global_ABR_corrs\")"
   ]
  },
  {
   "cell_type": "markdown",
   "metadata": {},
   "source": [
    "### Channel Sub-Selections\n",
    "\n",
    "The next set of cells calculates the same measures on channel sub-selections.\n",
    "\n",
    "By default, these plots are not displayed, but are available in `figures`."
   ]
  },
  {
   "cell_type": "code",
   "execution_count": 30,
   "metadata": {},
   "outputs": [],
   "source": [
    "# Frontal Channels\n",
    "abr_pe_fr, abr_ap_fr, _, _ = param_ratio_corr(df, \"ABR\", ch_inds_frontal, func=nan_corr_spearman)\n",
    "print_ap_corrs(\"ABR\", abr_ap_fr, show=SHOW_SUB)\n",
    "\n",
    "plot_param_ratio_corr(abr_pe_fr, show=SHOW_SUB,\n",
    "                      save_fig=SAVE_FIG, file_name=\"Frontal_ABR_corrs\")\n",
    "plot_param_ratio_corr_exp(abr_ap_fr, show=False,\n",
    "                          save_fig=SAVE_FIG, file_name=\"Frontal_ABR_corrs\")"
   ]
  },
  {
   "cell_type": "code",
   "execution_count": 31,
   "metadata": {},
   "outputs": [],
   "source": [
    "# Central Channels\n",
    "abr_pe_ce, abr_ap_ce, _, _ = param_ratio_corr(df, \"ABR\", ch_inds_central, func=nan_corr_spearman)\n",
    "print_ap_corrs(\"ABR\", abr_ap_ce, show=SHOW_SUB)\n",
    "\n",
    "plot_param_ratio_corr(abr_pe_ce, show=SHOW_SUB,\n",
    "                      save_fig=SAVE_FIG, file_name=\"Central_ABR_corrs\")\n",
    "plot_param_ratio_corr_exp(abr_ap_ce, show=False,\n",
    "                          save_fig=SAVE_FIG, file_name=\"Central_ABR_corrs\")"
   ]
  },
  {
   "cell_type": "code",
   "execution_count": 32,
   "metadata": {},
   "outputs": [],
   "source": [
    "# Parietal Channels\n",
    "abr_pe_pa, abr_ap_pa, _, _ = param_ratio_corr(df, \"ABR\", ch_inds_parietal, func=nan_corr_spearman)\n",
    "print_ap_corrs(\"ABR\", abr_ap_pa, show=SHOW_SUB)\n",
    "\n",
    "plot_param_ratio_corr(abr_pe_pa, show=SHOW_SUB,\n",
    "                      save_fig=SAVE_FIG, file_name=\"Parietal_ABR_corrs\")\n",
    "plot_param_ratio_corr_exp(abr_ap_pa, show=False,\n",
    "                          save_fig=SAVE_FIG, file_name=\"Parietal_ABR_corrs\")"
   ]
  },
  {
   "cell_type": "markdown",
   "metadata": {},
   "source": [
    "## Correlations between Age and Aperiodic Exponent\n",
    "\n",
    "Calculate the correlation of aperiodic exponent to age."
   ]
  },
  {
   "cell_type": "code",
   "execution_count": 33,
   "metadata": {},
   "outputs": [
    {
     "name": "stdout",
     "output_type": "stream",
     "text": [
      "\t Age-EXP corr  global:  \t -0.6807    [-0.7651, -0.5674]    0.0000\n"
     ]
    }
   ],
   "source": [
    "# Check correlation across all channels\n",
    "age_exp_corr, age_exp_cis, age_exp_p = param_corr(df, \"Age\", \"Exp\", all_chans, bootstrap_corr)\n",
    "print_stat('Age-EXP corr  global: ', age_exp_corr, age_exp_cis, age_exp_p)"
   ]
  },
  {
   "cell_type": "code",
   "execution_count": 34,
   "metadata": {},
   "outputs": [
    {
     "name": "stdout",
     "output_type": "stream",
     "text": [
      "\t Age-EXP corr  frontal:  \t -0.7032    [-0.7884, -0.5937]    0.0000\n",
      "\t Age-EXP corr  central:  \t -0.6281    [-0.7375, -0.4867]    0.0000\n",
      "\t Age-EXP corr  parietal:  \t -0.7101    [-0.7858, -0.6104]    0.0000\n"
     ]
    }
   ],
   "source": [
    "# Check correlation of age and exponent within channel sub-selections\n",
    "print_stat('Age-EXP corr  frontal: ',\n",
    "           *param_corr(df, \"Age\", \"Exp\", ch_inds_frontal, bootstrap_corr))\n",
    "print_stat('Age-EXP corr  central: ', \n",
    "           *param_corr(df, \"Age\", \"Exp\", ch_inds_central, bootstrap_corr)) \n",
    "print_stat('Age-EXP corr  parietal: ', \n",
    "           *param_corr(df, \"Age\", \"Exp\", ch_inds_parietal, bootstrap_corr))"
   ]
  },
  {
   "cell_type": "markdown",
   "metadata": {},
   "source": [
    "### Compare Age Correlations"
   ]
  },
  {
   "cell_type": "code",
   "execution_count": 35,
   "metadata": {},
   "outputs": [
    {
     "name": "stdout",
     "output_type": "stream",
     "text": [
      "\t Age: TBR vs EXP \t -0.0066    [-0.0165, +0.0034]    0.2004\n",
      "\t Age: TAR vs EXP \t -0.2868    [-0.3048, -0.2683]    0.0000\n",
      "\t Age: ABR vs EXP \t -0.5074    [-0.5252, -0.4889]    0.0000\n"
     ]
    }
   ],
   "source": [
    "# Compare ratio correlations with age, vs exponent\n",
    "for ratio in [\"TBR\", \"TAR\", \"ABR\"]:\n",
    "    print_stat('Age: {} vs EXP'.format(ratio), \n",
    "               *bootstrap_diff(df[\"Age\"].values, df[\"Exp\"].values, df[ratio].values))"
   ]
  },
  {
   "cell_type": "code",
   "execution_count": 36,
   "metadata": {},
   "outputs": [
    {
     "name": "stdout",
     "output_type": "stream",
     "text": [
      "\t Age: TBR vs TAR \t -0.2803    [-0.2982, -0.2636]    0.0000\n",
      "\t Age: TBR vs ABR \t -0.5008    [-0.5180, -0.4828]    0.0000\n",
      "\t Age: TAR vs ABR \t -0.2205    [-0.2526, -0.1887]    0.0000\n",
      "\t Age: ABR vs TAR \t +0.2205    [+0.1892, +0.2524]    0.0000\n"
     ]
    }
   ],
   "source": [
    "# Compare ratios to each other, and their relation to age\n",
    "for ratio1 in [\"TBR\", \"TAR\", \"ABR\"]:\n",
    "    for ratio2 in [\"TAR\", \"ABR\"]:\n",
    "        if ratio1 == ratio2: continue\n",
    "        print_stat('Age: {} vs {}'.format(ratio1, ratio2), \n",
    "               *bootstrap_diff(df[\"Age\"].values, df[ratio1].values, df[ratio2].values))"
   ]
  }
 ],
 "metadata": {
  "kernelspec": {
   "display_name": "Python 3",
   "language": "python",
   "name": "python3"
  },
  "language_info": {
   "codemirror_mode": {
    "name": "ipython",
    "version": 3
   },
   "file_extension": ".py",
   "mimetype": "text/x-python",
   "name": "python",
   "nbconvert_exporter": "python",
   "pygments_lexer": "ipython3",
   "version": "3.7.4"
  }
 },
 "nbformat": 4,
 "nbformat_minor": 2
}
